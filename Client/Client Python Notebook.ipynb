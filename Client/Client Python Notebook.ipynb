{
 "cells": [
  {
   "cell_type": "markdown",
   "id": "108b5050",
   "metadata": {},
   "source": [
    "## Model Creation"
   ]
  },
  {
   "cell_type": "code",
   "execution_count": 1,
   "id": "14de3ebe",
   "metadata": {},
   "outputs": [],
   "source": [
    "# this file will be used to train and\n",
    "# report accuracy results of the model\n",
    "\n",
    "import os\n",
    "import copy\n",
    "import time\n",
    "import pickle\n",
    "import pandas\n",
    "\n",
    "import numpy as np #numbers\n",
    "from tqdm import tqdm #progress bar\n",
    "import torch #pytorch\n",
    "from tensorboardX import SummaryWriter #display metrics"
   ]
  },
  {
   "cell_type": "code",
   "execution_count": 2,
   "id": "4ba5605c",
   "metadata": {},
   "outputs": [
    {
     "data": {
      "text/plain": [
       "Network(\n",
       "  (hidden): Linear(in_features=3, out_features=5, bias=True)\n",
       "  (output): Linear(in_features=5, out_features=2, bias=True)\n",
       "  (sigmoid): Sigmoid()\n",
       "  (softmax): Softmax(dim=1)\n",
       ")"
      ]
     },
     "execution_count": 2,
     "metadata": {},
     "output_type": "execute_result"
    }
   ],
   "source": [
    "from torch import nn\n",
    "\n",
    "class Network(nn.Module):\n",
    "\n",
    "    def __init__(self):\n",
    "        super().__init__()\n",
    "\n",
    "        # Inputs to hidden layer linear transformation\n",
    "        self.hidden = nn.Linear(3, 5)\n",
    "        # Output layer, 10 units - one for each digit\n",
    "        self.output = nn.Linear(5, 2)\n",
    "        # Define sigmoid activation and softmax output\n",
    "        self.sigmoid = nn.Sigmoid()\n",
    "        self.softmax = nn.Softmax(dim=1)\n",
    "\n",
    "    def forward(self, x):\n",
    "        # Pass the input tensor through each of our operations\n",
    "        x = self.hidden(x)\n",
    "        x = self.sigmoid(x)\n",
    "        x = self.output(x)\n",
    "        x = self.softmax(x)\n",
    "\n",
    "        return x\n",
    "\n",
    "model = Network()\n",
    "model\n"
   ]
  },
  {
   "cell_type": "code",
   "execution_count": 3,
   "id": "f7cf7f38",
   "metadata": {},
   "outputs": [
    {
     "name": "stdout",
     "output_type": "stream",
     "text": [
      "4\n",
      "torch.Size([5, 3])\n"
     ]
    }
   ],
   "source": [
    "params = list(model.parameters())\n",
    "print(len(params))\n",
    "print(params[0].size()) "
   ]
  },
  {
   "cell_type": "code",
   "execution_count": 4,
   "id": "c051c53c",
   "metadata": {},
   "outputs": [
    {
     "name": "stdout",
     "output_type": "stream",
     "text": [
      "Parameter containing:\n",
      "tensor([[-0.1945,  0.0909,  0.4660],\n",
      "        [-0.3429,  0.0593,  0.0878],\n",
      "        [ 0.0102, -0.2569, -0.5217],\n",
      "        [ 0.2410, -0.2153,  0.1606],\n",
      "        [ 0.3440,  0.0115,  0.4754]], requires_grad=True)\n"
     ]
    }
   ],
   "source": [
    "print(params[0])"
   ]
  },
  {
   "cell_type": "code",
   "execution_count": 4,
   "id": "98b5190b",
   "metadata": {},
   "outputs": [],
   "source": [
    "#This file will generate data for training\n",
    "#Temperature values range from 20C (death) to 43C (highest recorded fever) in humans, 36.5 to 37.5 being the o.k. range\n",
    "#Resting heart rate values range in humans range from 60 (low for an old person) and 190 (high for a newborn)\n",
    "\n",
    "    #newborn : 140 ± 50\n",
    "    #1–2 ans : 110 ± 40\n",
    "    #3–5 ans : 105 ± 35\n",
    "    #6–12 ans : 95 ± 30\n",
    "    #adolescent ou adulte : 70 ± 10\n",
    "    #personne âgée : 65 ± 5\n",
    "\n",
    "#We will generate values based on the age of subjects and a gaussian normal distribution\n",
    "from faker import Faker\n",
    "from faker.providers import BaseProvider\n",
    "import random\n",
    "import csv\n",
    "\n",
    "\n",
    "def get_age():\n",
    "    return  random.randrange(0, 100)\n",
    "       \n",
    "def get_Temp():\n",
    "     return round(random.uniform(20.0, 42.0), 1)\n",
    "def get_HR():\n",
    "    return  random.randrange(50, 160)\n",
    "\n",
    "\n",
    "def generate_DATA():\n",
    "    return [get_age(), get_Temp(), get_HR()]\n",
    "\n",
    "with open('Data.csv', 'w') as csvfile:\n",
    "    writer = csv.writer(csvfile)\n",
    "    writer.writerow(['Age', 'Temperature', 'Heart rate'])\n",
    "    for n in range(1, 100):\n",
    "        writer.writerow(generate_DATA())\n"
   ]
  },
  {
   "cell_type": "code",
   "execution_count": 18,
   "id": "d99c36f6",
   "metadata": {},
   "outputs": [
    {
     "data": {
      "text/html": [
       "<div>\n",
       "<style scoped>\n",
       "    .dataframe tbody tr th:only-of-type {\n",
       "        vertical-align: middle;\n",
       "    }\n",
       "\n",
       "    .dataframe tbody tr th {\n",
       "        vertical-align: top;\n",
       "    }\n",
       "\n",
       "    .dataframe thead th {\n",
       "        text-align: right;\n",
       "    }\n",
       "</style>\n",
       "<table border=\"1\" class=\"dataframe\">\n",
       "  <thead>\n",
       "    <tr style=\"text-align: right;\">\n",
       "      <th></th>\n",
       "      <th>Age</th>\n",
       "      <th>Temperature</th>\n",
       "      <th>Heart rate</th>\n",
       "    </tr>\n",
       "  </thead>\n",
       "  <tbody>\n",
       "    <tr>\n",
       "      <th>0</th>\n",
       "      <td>80</td>\n",
       "      <td>22.1</td>\n",
       "      <td>142</td>\n",
       "    </tr>\n",
       "    <tr>\n",
       "      <th>1</th>\n",
       "      <td>63</td>\n",
       "      <td>22.4</td>\n",
       "      <td>53</td>\n",
       "    </tr>\n",
       "    <tr>\n",
       "      <th>2</th>\n",
       "      <td>43</td>\n",
       "      <td>37.0</td>\n",
       "      <td>105</td>\n",
       "    </tr>\n",
       "    <tr>\n",
       "      <th>3</th>\n",
       "      <td>43</td>\n",
       "      <td>27.6</td>\n",
       "      <td>101</td>\n",
       "    </tr>\n",
       "    <tr>\n",
       "      <th>4</th>\n",
       "      <td>4</td>\n",
       "      <td>26.7</td>\n",
       "      <td>60</td>\n",
       "    </tr>\n",
       "    <tr>\n",
       "      <th>...</th>\n",
       "      <td>...</td>\n",
       "      <td>...</td>\n",
       "      <td>...</td>\n",
       "    </tr>\n",
       "    <tr>\n",
       "      <th>94</th>\n",
       "      <td>10</td>\n",
       "      <td>22.9</td>\n",
       "      <td>154</td>\n",
       "    </tr>\n",
       "    <tr>\n",
       "      <th>95</th>\n",
       "      <td>21</td>\n",
       "      <td>20.5</td>\n",
       "      <td>143</td>\n",
       "    </tr>\n",
       "    <tr>\n",
       "      <th>96</th>\n",
       "      <td>98</td>\n",
       "      <td>29.2</td>\n",
       "      <td>84</td>\n",
       "    </tr>\n",
       "    <tr>\n",
       "      <th>97</th>\n",
       "      <td>0</td>\n",
       "      <td>39.5</td>\n",
       "      <td>79</td>\n",
       "    </tr>\n",
       "    <tr>\n",
       "      <th>98</th>\n",
       "      <td>69</td>\n",
       "      <td>32.6</td>\n",
       "      <td>153</td>\n",
       "    </tr>\n",
       "  </tbody>\n",
       "</table>\n",
       "<p>99 rows × 3 columns</p>\n",
       "</div>"
      ],
      "text/plain": [
       "    Age  Temperature  Heart rate\n",
       "0    80         22.1         142\n",
       "1    63         22.4          53\n",
       "2    43         37.0         105\n",
       "3    43         27.6         101\n",
       "4     4         26.7          60\n",
       "..  ...          ...         ...\n",
       "94   10         22.9         154\n",
       "95   21         20.5         143\n",
       "96   98         29.2          84\n",
       "97    0         39.5          79\n",
       "98   69         32.6         153\n",
       "\n",
       "[99 rows x 3 columns]"
      ]
     },
     "execution_count": 18,
     "metadata": {},
     "output_type": "execute_result"
    }
   ],
   "source": [
    "data = pandas.read_csv('Data.csv')\n",
    "data"
   ]
  },
  {
   "cell_type": "code",
   "execution_count": null,
   "id": "48eae016",
   "metadata": {},
   "outputs": [],
   "source": []
  }
 ],
 "metadata": {
  "kernelspec": {
   "display_name": "Python 3",
   "language": "python",
   "name": "python3"
  },
  "language_info": {
   "codemirror_mode": {
    "name": "ipython",
    "version": 3
   },
   "file_extension": ".py",
   "mimetype": "text/x-python",
   "name": "python",
   "nbconvert_exporter": "python",
   "pygments_lexer": "ipython3",
   "version": "3.6.13"
  }
 },
 "nbformat": 4,
 "nbformat_minor": 5
}
