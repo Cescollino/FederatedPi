{
 "cells": [
  {
   "cell_type": "code",
   "execution_count": null,
   "id": "6d89f7b0",
   "metadata": {},
   "outputs": [],
   "source": []
  },
  {
   "cell_type": "markdown",
   "id": "108b5050",
   "metadata": {},
   "source": [
    "# Data Generation\n",
    "    "
   ]
  },
  {
   "cell_type": "code",
   "execution_count": 13,
   "id": "b269ce6c",
   "metadata": {},
   "outputs": [],
   "source": [
    "#This file will generate data for training\n",
    "#Temperature values range from 20C (death) to 43C (highest recorded fever) in humans, 36.5 to 37.5 being the o.k. range\n",
    "#Resting heart rate values range in humans range from 60 (low for an old person) and 190 (high for a newborn)\n",
    "\n",
    "    #newborn : 140 ± 50\n",
    "    #1–2 ans : 110 ± 40\n",
    "    #3–5 ans : 105 ± 35\n",
    "    #6–12 ans : 95 ± 30\n",
    "    #adolescent ou adulte : 70 ± 10\n",
    "    #personne âgée : 65 ± 5\n",
    "\n",
    "#We will generate values based on the age of subjects and a gaussian normal distribution\n",
    "#from faker import Faker\n",
    "#from faker.providers import BaseProvider\n",
    "import random\n",
    "import csv\n",
    "import matplotlib\n",
    "import pandas as pd\n",
    "import numpy as np\n",
    "import matplotlib.pyplot as plt\n",
    "import matplotlib.cbook as cbook\n",
    "\n",
    "def get_age():\n",
    "    return  random.randrange(0, 100)\n",
    "\n",
    "def get_Temp():\n",
    "    mu= 37\n",
    "    sigma= 0.5\n",
    "\n",
    "    return round(random.gauss(mu,sigma), 1)\n",
    "\n",
    "def get_HR(age):\n",
    "\n",
    "    if age<1:\n",
    "        mu= 140\n",
    "        sigma= 50\n",
    "    elif age<3:\n",
    "        mu= 110\n",
    "        sigma= 40\n",
    "    elif age<5:\n",
    "        mu= 105\n",
    "        sigma= 35\n",
    "    elif age<12:\n",
    "        mu= 95\n",
    "        sigma= 30\n",
    "    elif age<65:\n",
    "        mu= 70\n",
    "        sigma= 10\n",
    "    else:\n",
    "        mu= 65\n",
    "        sigma= 5\n",
    "\n",
    "    return round(random.gauss(mu,sigma), 1)\n",
    "\n",
    "def get_Label(age, temp, hr):\n",
    "    label=0\n",
    "    if ( 0<=age<1 and 90<=hr<=190 and 36.5<temp<37.5 ):\n",
    "        label=1\n",
    "        return label\n",
    "\n",
    "    if ( 1<=age<3 and 70<=hr<=150 and 36.5<temp<37.5 ):\n",
    "        label=1\n",
    "        return label\n",
    "\n",
    "    if ( 3<=age<6 and 70<=hr<=140 and 36.5<temp<37.5 ):\n",
    "        label=1\n",
    "        return label\n",
    "\n",
    "    if ( 6<=age<12 and 65<=hr<=125 and 36.5<temp<37.5 ):\n",
    "        label=1\n",
    "        return label\n",
    "\n",
    "    if ( 12<=age<65 and 60<=hr<=90 and 36.5<temp<37.5 ):\n",
    "        label=1\n",
    "        return label\n",
    "\n",
    "    if ( age>=65 and 60<=hr<=70 and 36.5<temp<37.5 ):\n",
    "        label=1\n",
    "        return label\n",
    "\n",
    "    return label\n",
    "\n",
    "def generate_DATA():\n",
    "    a=get_age();\n",
    "    b=get_Temp();\n",
    "    c=get_HR(a);\n",
    "    d=get_Label(a,b,c);\n",
    "    return [a,b,c,d]\n",
    "\n",
    "with open('Data_Train.csv', 'w') as csvfile:\n",
    "    writer = csv.writer(csvfile)\n",
    "    writer.writerow(['Age', 'Temperature', 'Heart rate', 'Label'])\n",
    "    for n in range(1, 300):\n",
    "        writer.writerow(generate_DATA())\n",
    "\n",
    "with open('Data_Test.csv', 'w') as csvfile:\n",
    "    writer = csv.writer(csvfile)\n",
    "    writer.writerow(['Age', 'Temperature', 'Heart rate', 'Label'])\n",
    "    for n in range(1, 100):\n",
    "        writer.writerow(generate_DATA())\n",
    "        \n",
    "Data_Train = pd.read_csv('Data_Train.csv')\n",
    "Data_Test = pd.read_csv('Data_Test.csv')\n"
   ]
  },
  {
   "cell_type": "markdown",
   "id": "e3a4f6f0",
   "metadata": {},
   "source": [
    "# Data Visualisation"
   ]
  },
  {
   "cell_type": "code",
   "execution_count": 14,
   "id": "882e3991",
   "metadata": {},
   "outputs": [
    {
     "data": {
      "text/plain": [
       "<AxesSubplot:xlabel='Age', ylabel='Heart rate'>"
      ]
     },
     "execution_count": 14,
     "metadata": {},
     "output_type": "execute_result"
    },
    {
     "data": {
      "image/png": "[encoded data removed]",
      "text/plain": [
       "<Figure size 432x288 with 1 Axes>"
      ]
     },
     "metadata": {
      "needs_background": "light"
     },
     "output_type": "display_data"
    }
   ],
   "source": [
    "Data_Train.plot(kind='scatter',x='Age',y='Heart rate', color ='green')\n"
   ]
  },
  {
   "cell_type": "code",
   "execution_count": 4,
   "id": "1d5d8937",
   "metadata": {},
   "outputs": [
    {
     "data": {
      "text/plain": [
       "<AxesSubplot:xlabel='Age', ylabel='Temperature'>"
      ]
     },
     "execution_count": 4,
     "metadata": {},
     "output_type": "execute_result"
    },
    {
     "data": {
      "image/png": "[encoded data removed]",
      "text/plain": [
       "<Figure size 432x288 with 1 Axes>"
      ]
     },
     "metadata": {
      "needs_background": "light"
     },
     "output_type": "display_data"
    }
   ],
   "source": [
    "Data_Train.plot(kind='scatter',x='Age',y='Temperature', color ='red')"
   ]
  },
  {
   "cell_type": "code",
   "execution_count": 5,
   "id": "c58439cc",
   "metadata": {},
   "outputs": [
    {
     "data": {
      "text/plain": [
       "<AxesSubplot:xlabel='Label'>"
      ]
     },
     "execution_count": 5,
     "metadata": {},
     "output_type": "execute_result"
    },
    {
     "data": {
      "image/png": "[encoded data removed]",
      "text/plain": [
       "<Figure size 432x288 with 1 Axes>"
      ]
     },
     "metadata": {
      "needs_background": "light"
     },
     "output_type": "display_data"
    }
   ],
   "source": [
    "Data_Train.groupby('Label')['Age'].nunique().plot(kind='bar')\n"
   ]
  },
  {
   "cell_type": "code",
   "execution_count": 23,
   "id": "8f14c319",
   "metadata": {},
   "outputs": [
    {
     "name": "stdout",
     "output_type": "stream",
     "text": [
      "#######################TRAINING################################### \n",
      "\n",
      "<class 'pandas.core.frame.DataFrame'>\n",
      "RangeIndex: 299 entries, 0 to 298\n",
      "Data columns (total 4 columns):\n",
      " #   Column       Non-Null Count  Dtype  \n",
      "---  ------       --------------  -----  \n",
      " 0   Age          299 non-null    int64  \n",
      " 1   Temperature  299 non-null    float64\n",
      " 2   Heart rate   299 non-null    float64\n",
      " 3   Label        299 non-null    int64  \n",
      "dtypes: float64(2), int64(2)\n",
      "memory usage: 9.5 KB\n",
      "\n",
      "\n",
      "#######################TESTING#################################### \n",
      "\n",
      "<class 'pandas.core.frame.DataFrame'>\n",
      "RangeIndex: 99 entries, 0 to 98\n",
      "Data columns (total 4 columns):\n",
      " #   Column       Non-Null Count  Dtype  \n",
      "---  ------       --------------  -----  \n",
      " 0   Age          99 non-null     int64  \n",
      " 1   Temperature  99 non-null     float64\n",
      " 2   Heart rate   99 non-null     float64\n",
      " 3   Label        99 non-null     int64  \n",
      "dtypes: float64(2), int64(2)\n",
      "memory usage: 3.2 KB\n"
     ]
    }
   ],
   "source": [
    "Data_Train.info()"
   ]
  },
  {
   "cell_type": "code",
   "execution_count": 30,
   "id": "4e7f4808",
   "metadata": {},
   "outputs": [
    {
     "name": "stdout",
     "output_type": "stream",
     "text": [
      "<class 'pandas.core.frame.DataFrame'>\n",
      "RangeIndex: 99 entries, 0 to 98\n",
      "Data columns (total 4 columns):\n",
      " #   Column       Non-Null Count  Dtype  \n",
      "---  ------       --------------  -----  \n",
      " 0   Age          99 non-null     int64  \n",
      " 1   Temperature  99 non-null     float64\n",
      " 2   Heart rate   99 non-null     float64\n",
      " 3   Label        99 non-null     int64  \n",
      "dtypes: float64(2), int64(2)\n",
      "memory usage: 3.2 KB\n"
     ]
    }
   ],
   "source": [
    "Data_Test.info()"
   ]
  },
  {
   "cell_type": "code",
   "execution_count": 28,
   "id": "959d937e",
   "metadata": {},
   "outputs": [
    {
     "data": {
      "text/html": [
       "<div>\n",
       "<style scoped>\n",
       "    .dataframe tbody tr th:only-of-type {\n",
       "        vertical-align: middle;\n",
       "    }\n",
       "\n",
       "    .dataframe tbody tr th {\n",
       "        vertical-align: top;\n",
       "    }\n",
       "\n",
       "    .dataframe thead th {\n",
       "        text-align: right;\n",
       "    }\n",
       "</style>\n",
       "<table border=\"1\" class=\"dataframe\">\n",
       "  <thead>\n",
       "    <tr style=\"text-align: right;\">\n",
       "      <th></th>\n",
       "      <th>Age</th>\n",
       "      <th>Temperature</th>\n",
       "      <th>Heart rate</th>\n",
       "      <th>Label</th>\n",
       "    </tr>\n",
       "  </thead>\n",
       "  <tbody>\n",
       "    <tr>\n",
       "      <th>0</th>\n",
       "      <td>19</td>\n",
       "      <td>37.5</td>\n",
       "      <td>60.8</td>\n",
       "      <td>0</td>\n",
       "    </tr>\n",
       "    <tr>\n",
       "      <th>1</th>\n",
       "      <td>83</td>\n",
       "      <td>37.3</td>\n",
       "      <td>66.4</td>\n",
       "      <td>1</td>\n",
       "    </tr>\n",
       "    <tr>\n",
       "      <th>2</th>\n",
       "      <td>50</td>\n",
       "      <td>37.2</td>\n",
       "      <td>77.0</td>\n",
       "      <td>1</td>\n",
       "    </tr>\n",
       "    <tr>\n",
       "      <th>3</th>\n",
       "      <td>20</td>\n",
       "      <td>37.2</td>\n",
       "      <td>70.1</td>\n",
       "      <td>1</td>\n",
       "    </tr>\n",
       "    <tr>\n",
       "      <th>4</th>\n",
       "      <td>4</td>\n",
       "      <td>37.5</td>\n",
       "      <td>86.9</td>\n",
       "      <td>0</td>\n",
       "    </tr>\n",
       "    <tr>\n",
       "      <th>5</th>\n",
       "      <td>88</td>\n",
       "      <td>37.1</td>\n",
       "      <td>68.6</td>\n",
       "      <td>1</td>\n",
       "    </tr>\n",
       "    <tr>\n",
       "      <th>6</th>\n",
       "      <td>42</td>\n",
       "      <td>37.4</td>\n",
       "      <td>71.8</td>\n",
       "      <td>1</td>\n",
       "    </tr>\n",
       "    <tr>\n",
       "      <th>7</th>\n",
       "      <td>41</td>\n",
       "      <td>36.8</td>\n",
       "      <td>60.6</td>\n",
       "      <td>1</td>\n",
       "    </tr>\n",
       "    <tr>\n",
       "      <th>8</th>\n",
       "      <td>52</td>\n",
       "      <td>37.4</td>\n",
       "      <td>72.7</td>\n",
       "      <td>1</td>\n",
       "    </tr>\n",
       "    <tr>\n",
       "      <th>9</th>\n",
       "      <td>12</td>\n",
       "      <td>36.8</td>\n",
       "      <td>74.9</td>\n",
       "      <td>1</td>\n",
       "    </tr>\n",
       "  </tbody>\n",
       "</table>\n",
       "</div>"
      ],
      "text/plain": [
       "   Age  Temperature  Heart rate  Label\n",
       "0   19         37.5        60.8      0\n",
       "1   83         37.3        66.4      1\n",
       "2   50         37.2        77.0      1\n",
       "3   20         37.2        70.1      1\n",
       "4    4         37.5        86.9      0\n",
       "5   88         37.1        68.6      1\n",
       "6   42         37.4        71.8      1\n",
       "7   41         36.8        60.6      1\n",
       "8   52         37.4        72.7      1\n",
       "9   12         36.8        74.9      1"
      ]
     },
     "execution_count": 28,
     "metadata": {},
     "output_type": "execute_result"
    }
   ],
   "source": [
    "Data_Train.head(10)"
   ]
  },
  {
   "cell_type": "code",
   "execution_count": 29,
   "id": "43284cae",
   "metadata": {},
   "outputs": [
    {
     "data": {
      "text/html": [
       "<div>\n",
       "<style scoped>\n",
       "    .dataframe tbody tr th:only-of-type {\n",
       "        vertical-align: middle;\n",
       "    }\n",
       "\n",
       "    .dataframe tbody tr th {\n",
       "        vertical-align: top;\n",
       "    }\n",
       "\n",
       "    .dataframe thead th {\n",
       "        text-align: right;\n",
       "    }\n",
       "</style>\n",
       "<table border=\"1\" class=\"dataframe\">\n",
       "  <thead>\n",
       "    <tr style=\"text-align: right;\">\n",
       "      <th></th>\n",
       "      <th>Age</th>\n",
       "      <th>Temperature</th>\n",
       "      <th>Heart rate</th>\n",
       "      <th>Label</th>\n",
       "    </tr>\n",
       "  </thead>\n",
       "  <tbody>\n",
       "    <tr>\n",
       "      <th>0</th>\n",
       "      <td>35</td>\n",
       "      <td>36.6</td>\n",
       "      <td>82.1</td>\n",
       "      <td>1</td>\n",
       "    </tr>\n",
       "    <tr>\n",
       "      <th>1</th>\n",
       "      <td>0</td>\n",
       "      <td>37.5</td>\n",
       "      <td>142.1</td>\n",
       "      <td>0</td>\n",
       "    </tr>\n",
       "    <tr>\n",
       "      <th>2</th>\n",
       "      <td>18</td>\n",
       "      <td>36.3</td>\n",
       "      <td>87.0</td>\n",
       "      <td>0</td>\n",
       "    </tr>\n",
       "    <tr>\n",
       "      <th>3</th>\n",
       "      <td>58</td>\n",
       "      <td>38.0</td>\n",
       "      <td>71.1</td>\n",
       "      <td>0</td>\n",
       "    </tr>\n",
       "    <tr>\n",
       "      <th>4</th>\n",
       "      <td>99</td>\n",
       "      <td>36.5</td>\n",
       "      <td>71.8</td>\n",
       "      <td>0</td>\n",
       "    </tr>\n",
       "    <tr>\n",
       "      <th>5</th>\n",
       "      <td>79</td>\n",
       "      <td>37.0</td>\n",
       "      <td>57.8</td>\n",
       "      <td>0</td>\n",
       "    </tr>\n",
       "    <tr>\n",
       "      <th>6</th>\n",
       "      <td>2</td>\n",
       "      <td>36.9</td>\n",
       "      <td>68.2</td>\n",
       "      <td>0</td>\n",
       "    </tr>\n",
       "    <tr>\n",
       "      <th>7</th>\n",
       "      <td>33</td>\n",
       "      <td>37.1</td>\n",
       "      <td>79.0</td>\n",
       "      <td>1</td>\n",
       "    </tr>\n",
       "    <tr>\n",
       "      <th>8</th>\n",
       "      <td>99</td>\n",
       "      <td>37.0</td>\n",
       "      <td>61.8</td>\n",
       "      <td>1</td>\n",
       "    </tr>\n",
       "    <tr>\n",
       "      <th>9</th>\n",
       "      <td>46</td>\n",
       "      <td>37.0</td>\n",
       "      <td>74.5</td>\n",
       "      <td>1</td>\n",
       "    </tr>\n",
       "  </tbody>\n",
       "</table>\n",
       "</div>"
      ],
      "text/plain": [
       "   Age  Temperature  Heart rate  Label\n",
       "0   35         36.6        82.1      1\n",
       "1    0         37.5       142.1      0\n",
       "2   18         36.3        87.0      0\n",
       "3   58         38.0        71.1      0\n",
       "4   99         36.5        71.8      0\n",
       "5   79         37.0        57.8      0\n",
       "6    2         36.9        68.2      0\n",
       "7   33         37.1        79.0      1\n",
       "8   99         37.0        61.8      1\n",
       "9   46         37.0        74.5      1"
      ]
     },
     "execution_count": 29,
     "metadata": {},
     "output_type": "execute_result"
    }
   ],
   "source": [
    "Data_Test.head(10)"
   ]
  },
  {
   "cell_type": "code",
   "execution_count": 6,
   "id": "d54abec0",
   "metadata": {},
   "outputs": [],
   "source": [
    "# train_dataset = np.loadtxt(open(\"Data.csv\", \"rb\"), delimiter=\",\", skiprows=1)"
   ]
  },
  {
   "cell_type": "code",
   "execution_count": 31,
   "id": "4c4fa4c9",
   "metadata": {},
   "outputs": [
    {
     "data": {
      "text/html": [
       "<div>\n",
       "<style scoped>\n",
       "    .dataframe tbody tr th:only-of-type {\n",
       "        vertical-align: middle;\n",
       "    }\n",
       "\n",
       "    .dataframe tbody tr th {\n",
       "        vertical-align: top;\n",
       "    }\n",
       "\n",
       "    .dataframe thead th {\n",
       "        text-align: right;\n",
       "    }\n",
       "</style>\n",
       "<table border=\"1\" class=\"dataframe\">\n",
       "  <thead>\n",
       "    <tr style=\"text-align: right;\">\n",
       "      <th></th>\n",
       "      <th>Age</th>\n",
       "      <th>Temperature</th>\n",
       "      <th>Heart rate</th>\n",
       "      <th>Label</th>\n",
       "    </tr>\n",
       "  </thead>\n",
       "  <tbody>\n",
       "    <tr>\n",
       "      <th>count</th>\n",
       "      <td>299.000000</td>\n",
       "      <td>299.000000</td>\n",
       "      <td>299.000000</td>\n",
       "      <td>299.000000</td>\n",
       "    </tr>\n",
       "    <tr>\n",
       "      <th>mean</th>\n",
       "      <td>47.488294</td>\n",
       "      <td>37.014716</td>\n",
       "      <td>72.307023</td>\n",
       "      <td>0.488294</td>\n",
       "    </tr>\n",
       "    <tr>\n",
       "      <th>std</th>\n",
       "      <td>29.529686</td>\n",
       "      <td>0.506055</td>\n",
       "      <td>21.175528</td>\n",
       "      <td>0.500701</td>\n",
       "    </tr>\n",
       "    <tr>\n",
       "      <th>min</th>\n",
       "      <td>0.000000</td>\n",
       "      <td>35.700000</td>\n",
       "      <td>12.700000</td>\n",
       "      <td>0.000000</td>\n",
       "    </tr>\n",
       "    <tr>\n",
       "      <th>25%</th>\n",
       "      <td>20.000000</td>\n",
       "      <td>36.700000</td>\n",
       "      <td>62.700000</td>\n",
       "      <td>0.000000</td>\n",
       "    </tr>\n",
       "    <tr>\n",
       "      <th>50%</th>\n",
       "      <td>47.000000</td>\n",
       "      <td>37.000000</td>\n",
       "      <td>67.200000</td>\n",
       "      <td>0.000000</td>\n",
       "    </tr>\n",
       "    <tr>\n",
       "      <th>75%</th>\n",
       "      <td>72.500000</td>\n",
       "      <td>37.300000</td>\n",
       "      <td>74.650000</td>\n",
       "      <td>1.000000</td>\n",
       "    </tr>\n",
       "    <tr>\n",
       "      <th>max</th>\n",
       "      <td>99.000000</td>\n",
       "      <td>38.500000</td>\n",
       "      <td>204.500000</td>\n",
       "      <td>1.000000</td>\n",
       "    </tr>\n",
       "  </tbody>\n",
       "</table>\n",
       "</div>"
      ],
      "text/plain": [
       "              Age  Temperature  Heart rate       Label\n",
       "count  299.000000   299.000000  299.000000  299.000000\n",
       "mean    47.488294    37.014716   72.307023    0.488294\n",
       "std     29.529686     0.506055   21.175528    0.500701\n",
       "min      0.000000    35.700000   12.700000    0.000000\n",
       "25%     20.000000    36.700000   62.700000    0.000000\n",
       "50%     47.000000    37.000000   67.200000    0.000000\n",
       "75%     72.500000    37.300000   74.650000    1.000000\n",
       "max     99.000000    38.500000  204.500000    1.000000"
      ]
     },
     "execution_count": 31,
     "metadata": {},
     "output_type": "execute_result"
    }
   ],
   "source": [
    "Data_Train.describe()"
   ]
  },
  {
   "cell_type": "code",
   "execution_count": 32,
   "id": "15d670ac",
   "metadata": {},
   "outputs": [
    {
     "data": {
      "text/html": [
       "<div>\n",
       "<style scoped>\n",
       "    .dataframe tbody tr th:only-of-type {\n",
       "        vertical-align: middle;\n",
       "    }\n",
       "\n",
       "    .dataframe tbody tr th {\n",
       "        vertical-align: top;\n",
       "    }\n",
       "\n",
       "    .dataframe thead th {\n",
       "        text-align: right;\n",
       "    }\n",
       "</style>\n",
       "<table border=\"1\" class=\"dataframe\">\n",
       "  <thead>\n",
       "    <tr style=\"text-align: right;\">\n",
       "      <th></th>\n",
       "      <th>Age</th>\n",
       "      <th>Temperature</th>\n",
       "      <th>Heart rate</th>\n",
       "      <th>Label</th>\n",
       "    </tr>\n",
       "  </thead>\n",
       "  <tbody>\n",
       "    <tr>\n",
       "      <th>count</th>\n",
       "      <td>99.000000</td>\n",
       "      <td>99.000000</td>\n",
       "      <td>99.000000</td>\n",
       "      <td>99.000000</td>\n",
       "    </tr>\n",
       "    <tr>\n",
       "      <th>mean</th>\n",
       "      <td>51.484848</td>\n",
       "      <td>37.017172</td>\n",
       "      <td>70.337374</td>\n",
       "      <td>0.404040</td>\n",
       "    </tr>\n",
       "    <tr>\n",
       "      <th>std</th>\n",
       "      <td>30.347095</td>\n",
       "      <td>0.498373</td>\n",
       "      <td>16.824524</td>\n",
       "      <td>0.493203</td>\n",
       "    </tr>\n",
       "    <tr>\n",
       "      <th>min</th>\n",
       "      <td>0.000000</td>\n",
       "      <td>35.900000</td>\n",
       "      <td>30.500000</td>\n",
       "      <td>0.000000</td>\n",
       "    </tr>\n",
       "    <tr>\n",
       "      <th>25%</th>\n",
       "      <td>27.000000</td>\n",
       "      <td>36.700000</td>\n",
       "      <td>60.600000</td>\n",
       "      <td>0.000000</td>\n",
       "    </tr>\n",
       "    <tr>\n",
       "      <th>50%</th>\n",
       "      <td>51.000000</td>\n",
       "      <td>37.000000</td>\n",
       "      <td>68.000000</td>\n",
       "      <td>0.000000</td>\n",
       "    </tr>\n",
       "    <tr>\n",
       "      <th>75%</th>\n",
       "      <td>77.000000</td>\n",
       "      <td>37.300000</td>\n",
       "      <td>74.100000</td>\n",
       "      <td>1.000000</td>\n",
       "    </tr>\n",
       "    <tr>\n",
       "      <th>max</th>\n",
       "      <td>99.000000</td>\n",
       "      <td>38.200000</td>\n",
       "      <td>165.400000</td>\n",
       "      <td>1.000000</td>\n",
       "    </tr>\n",
       "  </tbody>\n",
       "</table>\n",
       "</div>"
      ],
      "text/plain": [
       "             Age  Temperature  Heart rate      Label\n",
       "count  99.000000    99.000000   99.000000  99.000000\n",
       "mean   51.484848    37.017172   70.337374   0.404040\n",
       "std    30.347095     0.498373   16.824524   0.493203\n",
       "min     0.000000    35.900000   30.500000   0.000000\n",
       "25%    27.000000    36.700000   60.600000   0.000000\n",
       "50%    51.000000    37.000000   68.000000   0.000000\n",
       "75%    77.000000    37.300000   74.100000   1.000000\n",
       "max    99.000000    38.200000  165.400000   1.000000"
      ]
     },
     "execution_count": 32,
     "metadata": {},
     "output_type": "execute_result"
    }
   ],
   "source": [
    "Data_Test.describe()"
   ]
  },
  {
   "cell_type": "code",
   "execution_count": 35,
   "id": "2519a5ee",
   "metadata": {},
   "outputs": [
    {
     "data": {
      "text/plain": [
       "0"
      ]
     },
     "execution_count": 35,
     "metadata": {},
     "output_type": "execute_result"
    }
   ],
   "source": [
    "sum(Data_Test.duplicated())\n",
    "sum(Data_Train.duplicated())"
   ]
  },
  {
   "cell_type": "markdown",
   "id": "1468e9dc",
   "metadata": {},
   "source": [
    "## Data Pre-Processing"
   ]
  },
  {
   "cell_type": "code",
   "execution_count": null,
   "id": "b437db2b",
   "metadata": {},
   "outputs": [],
   "source": []
  }
 ],
 "metadata": {
  "kernelspec": {
   "display_name": "Python 3 (ipykernel)",
   "language": "python",
   "name": "python3"
  },
  "language_info": {
   "codemirror_mode": {
    "name": "ipython",
    "version": 3
   },
   "file_extension": ".py",
   "mimetype": "text/x-python",
   "name": "python",
   "nbconvert_exporter": "python",
   "pygments_lexer": "ipython3",
   "version": "3.9.7"
  }
 },
 "nbformat": 4,
 "nbformat_minor": 5
}
